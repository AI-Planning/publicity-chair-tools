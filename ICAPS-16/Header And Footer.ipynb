{
 "cells": [
  {
   "cell_type": "code",
   "execution_count": 2,
   "metadata": {
    "collapsed": false
   },
   "outputs": [
    {
     "name": "stdout",
     "output_type": "stream",
     "text": [
      "Working on accommodation.html...\n",
      "Working on awards.html...\n",
      "Working on cfp.html...\n",
      "Working on coming-soon.html...\n",
      "Working on committees.html...\n",
      "Working on contests.html...\n",
      "Working on coplas.html...\n",
      "Working on dc.html...\n",
      "Working on demos.html...\n",
      "Working on directions.html...\n",
      "Working on dmap.html...\n",
      "Working on hsdip.html...\n",
      "Working on index.html...\n",
      "Working on ippspcp.html...\n",
      "Working on journal-track.html...\n",
      "Working on map.html...\n",
      "Working on novel-track.html...\n",
      "Working on papers.html...\n",
      "Working on papers_old.html...\n",
      "Working on planrob.html...\n",
      "Working on registration.html...\n",
      "Working on robotics-track.html...\n",
      "Working on safeplan.html...\n",
      "Working on schedule-bak.html...\n",
      "Working on schedule.html...\n",
      "Working on spark.html...\n",
      "Working on summer-school.html...\n",
      "Working on tutorials-call.html...\n",
      "Working on tutorials-request.html...\n",
      "Working on tutorials.html...\n",
      "Working on workshops-tutorials-call.html...\n",
      "Working on workshops.html...\n",
      "Working on accommodation.html...\n",
      "Working on awards.html...\n",
      "Working on cfp.html...\n",
      "Working on coming-soon.html...\n",
      "Working on committees.html...\n",
      "Working on contests.html...\n",
      "Working on coplas.html...\n",
      "Working on dc.html...\n",
      "Working on demos.html...\n",
      "Working on directions.html...\n",
      "Working on dmap.html...\n",
      "Working on hsdip.html...\n",
      "Working on index.html...\n",
      "Working on ippspcp.html...\n",
      "Working on journal-track.html...\n",
      "Working on map.html...\n",
      "Working on novel-track.html...\n",
      "Working on papers.html...\n",
      "Working on papers_old.html...\n",
      "Working on planrob.html...\n",
      "Working on registration.html...\n",
      "Working on robotics-track.html...\n",
      "Working on safeplan.html...\n",
      "Working on schedule-bak.html...\n",
      "Working on schedule.html...\n",
      "Working on spark.html...\n",
      "Working on summer-school.html...\n",
      "Working on tutorials-call.html...\n",
      "Working on tutorials-request.html...\n",
      "Working on tutorials.html...\n",
      "Working on workshops-tutorials-call.html...\n",
      "Working on workshops.html...\n"
     ]
    }
   ],
   "source": [
    "\n",
    "from utils import backup, html_files\n",
    "\n",
    "FORBIDDEN = set([])\n",
    "\n",
    "def insert_chunk(start, end, chunk):\n",
    "    for f in html_files():\n",
    "        if f.split('/')[-1].split('\\\\')[-1] not in FORBIDDEN:\n",
    "            print \"Working on %s...\" % f.split('/')[-1].split('\\\\')[-1]\n",
    "            with open(f, 'r') as fmain:\n",
    "                html = fmain.read()\n",
    "            new_html = html.split(start)[0] + start + '\\n' + chunk + '\\n' + end + '\\n' + html.split(end)[1]\n",
    "            #print new_html\n",
    "            with open(f, 'w') as fmain:\n",
    "                fmain.write(new_html)\n",
    "\n",
    "def insert_footer():\n",
    "    with open('footer.html', 'r') as ffooter:\n",
    "        footer_html = ffooter.read()\n",
    "    insert_chunk('<!-- START-FOOTER -->', '<!-- END-FOOTER -->', footer_html)\n",
    "\n",
    "def insert_header():\n",
    "    with open('header.html', 'r') as fheader:\n",
    "        header_html = fheader.read()\n",
    "    insert_chunk('<!-- START-TOP-NAV -->', '<!-- END-TOP-NAV -->', header_html)\n",
    "\n",
    "def insert_both():\n",
    "    backup()\n",
    "    insert_header()\n",
    "    insert_footer()\n",
    "\n",
    "#insert_both()"
   ]
  },
  {
   "cell_type": "code",
   "execution_count": null,
   "metadata": {
    "collapsed": true
   },
   "outputs": [],
   "source": []
  }
 ],
 "metadata": {
  "kernelspec": {
   "display_name": "Python [conda root]",
   "language": "python",
   "name": "conda-root-py"
  },
  "language_info": {
   "codemirror_mode": {
    "name": "ipython",
    "version": 3
   },
   "file_extension": ".py",
   "mimetype": "text/x-python",
   "name": "python",
   "nbconvert_exporter": "python",
   "pygments_lexer": "ipython3",
   "version": "3.5.2"
  }
 },
 "nbformat": 4,
 "nbformat_minor": 0
}
