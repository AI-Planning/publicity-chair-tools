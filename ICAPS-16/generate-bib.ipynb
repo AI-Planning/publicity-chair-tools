{
 "cells": [
  {
   "cell_type": "code",
   "execution_count": 1,
   "metadata": {
    "collapsed": false
   },
   "outputs": [
    {
     "name": "stdout",
     "output_type": "stream",
     "text": [
      "Done!\n"
     ]
    }
   ],
   "source": [
    "import csv\n",
    "\n",
    "papers = {}\n",
    "with open('ICAPS16_accepted_papers.txt', 'r') as f:\n",
    "    reader = csv.reader(f, delimiter='\\t')\n",
    "    for row in reader:\n",
    "        if '#' != row[0]:\n",
    "            papers[row[0]] = {'track': row[1],\n",
    "                              'title': row[2],\n",
    "                              'authors': row[3],\n",
    "                              'abstract': row[4],\n",
    "                              'topics': set()}\n",
    "\n",
    "topics = set()\n",
    "with open('ICAPS16_submission_topics.txt', 'r') as f:\n",
    "    reader = csv.reader(f, delimiter='\\t')\n",
    "    for row in reader:\n",
    "        if row[0] in papers:\n",
    "            papers[row[0]]['topics'].add(row[1])\n",
    "            topics.add(row[1])\n",
    "\n",
    "bib = \"\"\n",
    "for pid in sorted(papers.keys()):\n",
    "    bib += \"\\n\"\n",
    "    bib += \"@inproceedings {icaps16-%s,\\n\" % pid\n",
    "    bib += \"    track    = {%s},\\n\" % papers[pid]['track']\n",
    "    bib += \"    title    = {%s},\\n\" % papers[pid]['title']\n",
    "    bib += \"    author   = {%s},\\n\" % papers[pid]['authors'].replace(',', ' and ')\n",
    "    bib += \"    abstract = {%s},\\n\" % papers[pid]['abstract'].replace('{', '<').replace('}', '>')\n",
    "    bib += \"    keywords = {%s}\\n\" % ','.join(map(lambda x: x.replace(',', ';'), papers[pid]['topics']))\n",
    "    bib += \"}\\n\"\n",
    "\n",
    "# Funky character insertion to get the tracks sorted manually\n",
    "bib = unicode(bib, 'utf-8')\n",
    "bib = bib.replace(u'{ICAPS-16}', u'{'+u\"\\u200B\"+u'Main Track'+u'}')\n",
    "bib = bib.replace(u'{Robotics}', u'{'+u\"\\u200B\"+u\"\\u200B\"+u'Robotics Track'+u'}')\n",
    "bib = bib.replace(u'{Applications}', u'{'+u\"\\u200B\"+u\"\\u200B\"+u\"\\u200B\"+u'Applications Track'+u'}')\n",
    "\n",
    "#with open('papers.bib', 'w') as f:\n",
    "#    f.write(bib.encode('UTF-8'))\n",
    "\n",
    "print \"Done!\""
   ]
  }
 ],
 "metadata": {
  "kernelspec": {
   "display_name": "Python 2",
   "language": "python",
   "name": "python2"
  },
  "language_info": {
   "codemirror_mode": {
    "name": "ipython",
    "version": 2
   },
   "file_extension": ".py",
   "mimetype": "text/x-python",
   "name": "python",
   "nbconvert_exporter": "python",
   "pygments_lexer": "ipython2",
   "version": "2.7.11"
  }
 },
 "nbformat": 4,
 "nbformat_minor": 0
}
